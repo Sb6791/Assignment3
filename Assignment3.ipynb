{
 "cells": [
  {
   "cell_type": "markdown",
   "metadata": {},
   "source": [
    "# Write a function to compute 5/0 and use try/except to catch the exception"
   ]
  },
  {
   "cell_type": "code",
   "execution_count": 1,
   "metadata": {},
   "outputs": [
    {
     "name": "stdout",
     "output_type": "stream",
     "text": [
      "division by zero\n"
     ]
    }
   ],
   "source": [
    "try:\n",
    "    print(5/0)\n",
    "except Exception as e:\n",
    "    print(e)"
   ]
  },
  {
   "cell_type": "markdown",
   "metadata": {},
   "source": [
    "# Impliment a python program to generate all sentences where subject is in ['Americans' , 'Indians'] and verb is in ['play' , 'watch'] and the objects is in ['Baseball' , 'cricket']."
   ]
  },
  {
   "cell_type": "code",
   "execution_count": 2,
   "metadata": {},
   "outputs": [],
   "source": [
    "p = ['American', 'Indian']\n",
    "q = ['play', 'watch']\n",
    "r = ['baseball', 'cricket']"
   ]
  },
  {
   "cell_type": "code",
   "execution_count": 4,
   "metadata": {},
   "outputs": [
    {
     "name": "stdout",
     "output_type": "stream",
     "text": [
      "American play baseball\n",
      "American play cricket\n",
      "American watch baseball\n",
      "American watch cricket\n",
      "Indian play baseball\n",
      "Indian play cricket\n",
      "Indian watch baseball\n",
      "Indian watch cricket\n"
     ]
    }
   ],
   "source": [
    "for i in p:\n",
    "    for j in q:\n",
    "        for k in r:\n",
    "            print (i,j,k)"
   ]
  },
  {
   "cell_type": "markdown",
   "metadata": {},
   "source": [
    "# Write a function so the columns of the output matrix are powers of the input vector"
   ]
  },
  {
   "cell_type": "code",
   "execution_count": 19,
   "metadata": {},
   "outputs": [],
   "source": [
    "def matrix(lst,n,increasing):\n",
    "    if increasing:\n",
    "        a=[]\n",
    "        for i in lst:\n",
    "            b=[]\n",
    "            for j in range(0,n):\n",
    "                b.append(i**j)\n",
    "            a.append(b)\n",
    "        return a\n",
    "    if not increasing:\n",
    "        a=[]\n",
    "        for i in lst:\n",
    "            b=[]\n",
    "            for j in range(n-1,-1,-1):\n",
    "                b.append(i**j)\n",
    "            a.append(b)\n",
    "        return a"
   ]
  },
  {
   "cell_type": "code",
   "execution_count": 21,
   "metadata": {},
   "outputs": [
    {
     "data": {
      "text/plain": [
       "[[1, 1, 1, 1, 1],\n",
       " [16, 8, 4, 2, 1],\n",
       " [81, 27, 9, 3, 1],\n",
       " [256, 64, 16, 4, 1],\n",
       " [625, 125, 25, 5, 1]]"
      ]
     },
     "execution_count": 21,
     "metadata": {},
     "output_type": "execute_result"
    }
   ],
   "source": [
    "matrix([1,2,3,4,5],5,False)"
   ]
  },
  {
   "cell_type": "code",
   "execution_count": 20,
   "metadata": {},
   "outputs": [
    {
     "data": {
      "text/plain": [
       "[[1, 1, 1, 1, 1],\n",
       " [1, 2, 4, 8, 16],\n",
       " [1, 3, 9, 27, 81],\n",
       " [1, 4, 16, 64, 256],\n",
       " [1, 5, 25, 125, 625]]"
      ]
     },
     "execution_count": 20,
     "metadata": {},
     "output_type": "execute_result"
    }
   ],
   "source": [
    "matrix([1,2,3,4,5],5,True)"
   ]
  }
 ],
 "metadata": {
  "kernelspec": {
   "display_name": "Python 3",
   "language": "python",
   "name": "python3"
  },
  "language_info": {
   "codemirror_mode": {
    "name": "ipython",
    "version": 3
   },
   "file_extension": ".py",
   "mimetype": "text/x-python",
   "name": "python",
   "nbconvert_exporter": "python",
   "pygments_lexer": "ipython3",
   "version": "3.7.6"
  }
 },
 "nbformat": 4,
 "nbformat_minor": 4
}
